{
  "nbformat": 4,
  "nbformat_minor": 0,
  "metadata": {
    "colab": {
      "name": "document-similarity.ipynb",
      "version": "0.3.2",
      "provenance": [],
      "include_colab_link": true
    },
    "kernelspec": {
      "name": "python3",
      "display_name": "Python 3"
    }
  },
  "cells": [
    {
      "cell_type": "markdown",
      "metadata": {
        "id": "view-in-github",
        "colab_type": "text"
      },
      "source": [
        "<a href=\"https://colab.research.google.com/github/ziababar/machinelearning/blob/master/document_similarity.ipynb\" target=\"_parent\"><img src=\"https://colab.research.google.com/assets/colab-badge.svg\" alt=\"Open In Colab\"/></a>"
      ]
    },
    {
      "metadata": {
        "id": "_-FnFlOEROOG",
        "colab_type": "code",
        "colab": {
          "base_uri": "https://localhost:8080/",
          "height": 51
        },
        "outputId": "885e8805-ede4-470b-c33f-b9db871f7019"
      },
      "cell_type": "code",
      "source": [
        "import gensim\n",
        "import nltk\n",
        "nltk.download('punkt')\n",
        "from nltk.tokenize import word_tokenize\n"
      ],
      "execution_count": 8,
      "outputs": [
        {
          "output_type": "stream",
          "text": [
            "[nltk_data] Downloading package punkt to /root/nltk_data...\n",
            "[nltk_data]   Unzipping tokenizers/punkt.zip.\n"
          ],
          "name": "stdout"
        }
      ]
    },
    {
      "metadata": {
        "id": "qI79I4YHRZVD",
        "colab_type": "code",
        "colab": {}
      },
      "cell_type": "code",
      "source": [
        "print(dir(gensim))"
      ],
      "execution_count": 0,
      "outputs": []
    },
    {
      "metadata": {
        "id": "greBaHqGRfw0",
        "colab_type": "code",
        "colab": {
          "base_uri": "https://localhost:8080/",
          "height": 34
        },
        "outputId": "12d7edb3-3a89-429a-9c61-d3b4a1071d37"
      },
      "cell_type": "code",
      "source": [
        "raw_documents = [\"Someone I know recently combined Maple Syrup & buttered Popcorn thinking it would taste like caramel popcorn. It didn’t and they don’t recommend anyone else do it either.\",\n",
        "                 \"Sometimes it is better to just walk away from things and go back to them later when you’re in a better frame of mind.\",\n",
        "                 \"Italy is my favorite country; in fact, I plan to spend two weeks there next year.\",\n",
        "                 \"He turned in the research paper on Friday; otherwise, he would have not passed the class.\",\n",
        "                 \"Keep up with evolving privacy and security regulations across all industries with monitoring and detailed reporting from encryption status to failed authentication and everything in between. \"]\n"
      ],
      "execution_count": 3,
      "outputs": [
        {
          "output_type": "stream",
          "text": [
            "Number of documents: 5\n"
          ],
          "name": "stdout"
        }
      ]
    },
    {
      "metadata": {
        "id": "lapzvT1ORni0",
        "colab_type": "code",
        "colab": {
          "base_uri": "https://localhost:8080/",
          "height": 34
        },
        "outputId": "3f0a0315-22d1-4be0-e7bd-b090cb0d0381"
      },
      "cell_type": "code",
      "source": [
        "#print(\"Number of documents:\",len(raw_documents))"
      ],
      "execution_count": 4,
      "outputs": [
        {
          "output_type": "stream",
          "text": [
            "Number of documents: 5\n"
          ],
          "name": "stdout"
        }
      ]
    },
    {
      "metadata": {
        "id": "pn3Hm6MHRjMD",
        "colab_type": "code",
        "colab": {}
      },
      "cell_type": "code",
      "source": [
        "gen_docs = [[w.lower() for w in word_tokenize(text)] \n",
        "            for text in raw_documents]"
      ],
      "execution_count": 0,
      "outputs": []
    },
    {
      "metadata": {
        "id": "ZLN-U2NuRziU",
        "colab_type": "code",
        "colab": {
          "base_uri": "https://localhost:8080/",
          "height": 54
        },
        "outputId": "ea36b355-45a4-4ce6-e5a8-4799af1dfa91"
      },
      "cell_type": "code",
      "source": [
        "#print(gen_docs)"
      ],
      "execution_count": 10,
      "outputs": [
        {
          "output_type": "stream",
          "text": [
            "[['i', \"'m\", 'taking', 'the', 'show', 'on', 'the', 'road', '.'], ['my', 'socks', 'are', 'a', 'force', 'multiplier', '.'], ['i', 'am', 'the', 'barber', 'who', 'cuts', 'everyone', \"'s\", 'hair', 'who', 'does', \"n't\", 'cut', 'their', 'own', '.'], ['legend', 'has', 'it', 'that', 'the', 'mind', 'is', 'a', 'mad', 'monkey', '.'], ['i', 'make', 'my', 'own', 'fun', '.']]\n"
          ],
          "name": "stdout"
        }
      ]
    },
    {
      "metadata": {
        "id": "eTVTaV3mRrcj",
        "colab_type": "code",
        "colab": {}
      },
      "cell_type": "code",
      "source": [
        "dictionary = gensim.corpora.Dictionary(gen_docs)\n",
        "#print(dictionary[5])\n",
        "#print(dictionary.token2id['road'])\n",
        "#print(\"Number of words in dictionary:\",len(dictionary))\n",
        "#for i in range(len(dictionary)):\n",
        "#    print(i, dictionary[i])"
      ],
      "execution_count": 0,
      "outputs": []
    },
    {
      "metadata": {
        "id": "POqBiZMUSkVt",
        "colab_type": "code",
        "colab": {
          "base_uri": "https://localhost:8080/",
          "height": 54
        },
        "outputId": "b7ff344a-b7f0-4eac-d6e0-8ffe92331a42"
      },
      "cell_type": "code",
      "source": [
        "corpus = [dictionary.doc2bow(gen_doc) for gen_doc in gen_docs]\n",
        "#print(corpus)"
      ],
      "execution_count": 12,
      "outputs": [
        {
          "output_type": "stream",
          "text": [
            "[[(0, 1), (1, 1), (2, 1), (3, 1), (4, 1), (5, 1), (6, 1), (7, 2)], [(1, 1), (8, 1), (9, 1), (10, 1), (11, 1), (12, 1), (13, 1)], [(1, 1), (2, 1), (7, 1), (14, 1), (15, 1), (16, 1), (17, 1), (18, 1), (19, 1), (20, 1), (21, 1), (22, 1), (23, 1), (24, 1), (25, 2)], [(1, 1), (7, 1), (8, 1), (26, 1), (27, 1), (28, 1), (29, 1), (30, 1), (31, 1), (32, 1), (33, 1)], [(1, 1), (2, 1), (12, 1), (23, 1), (34, 1), (35, 1)]]\n"
          ],
          "name": "stdout"
        }
      ]
    },
    {
      "metadata": {
        "id": "cxDawqPGSoMN",
        "colab_type": "code",
        "colab": {
          "base_uri": "https://localhost:8080/",
          "height": 51
        },
        "outputId": "85bef2a4-87b4-443d-c390-3c0c4e3ddca1"
      },
      "cell_type": "code",
      "source": [
        "tf_idf = gensim.models.TfidfModel(corpus)\n",
        "#print(tf_idf)\n",
        "s = 0\n",
        "for i in corpus:\n",
        "    s += len(i)\n",
        "#print(s)"
      ],
      "execution_count": 13,
      "outputs": [
        {
          "output_type": "stream",
          "text": [
            "TfidfModel(num_docs=5, num_nnz=47)\n",
            "47\n"
          ],
          "name": "stdout"
        }
      ]
    },
    {
      "metadata": {
        "id": "QQKAOPsWSqs8",
        "colab_type": "code",
        "colab": {
          "base_uri": "https://localhost:8080/",
          "height": 105
        },
        "outputId": "693086ea-8e2a-4ac6-cc38-5bf9d3dc41db"
      },
      "cell_type": "code",
      "source": [
        "sims = gensim.similarities.Similarity('/usr',tf_idf[corpus], num_features=len(dictionary))\n",
        "#print(sims)\n",
        "#print(type(sims))\n",
        "\n"
      ],
      "execution_count": 21,
      "outputs": [
        {
          "output_type": "stream",
          "text": [
            "/usr/local/lib/python3.6/dist-packages/gensim/matutils.py:718: FutureWarning: Conversion of the second argument of issubdtype from `int` to `np.signedinteger` is deprecated. In future, it will be treated as `np.int64 == np.dtype(int).type`.\n",
            "  if np.issubdtype(vec.dtype, np.int):\n",
            "/usr/local/lib/python3.6/dist-packages/gensim/matutils.py:737: FutureWarning: Conversion of the second argument of issubdtype from `int` to `np.signedinteger` is deprecated. In future, it will be treated as `np.int64 == np.dtype(int).type`.\n",
            "  if np.issubdtype(vec.dtype, np.int):\n"
          ],
          "name": "stderr"
        }
      ]
    },
    {
      "metadata": {
        "id": "oiNJ9UQCSrgo",
        "colab_type": "code",
        "colab": {}
      },
      "cell_type": "code",
      "source": [
        "query_doc_1 = [w.lower() for w in word_tokenize(\"Evolving privacy and security regulations.\")]\n",
        "query_doc_bow = dictionary.doc2bow(query_doc_1)\n",
        "\n",
        "query_doc_tf_idf = tf_idf[query_doc_bow]\n",
        "sims[query_doc_tf_idf]"
      ],
      "execution_count": 0,
      "outputs": []
    },
    {
      "metadata": {
        "id": "jaNERDHZTXWG",
        "colab_type": "code",
        "colab": {
          "base_uri": "https://localhost:8080/",
          "height": 51
        },
        "outputId": "71c0e880-6585-4ba8-bd91-98c372617cfd"
      },
      "cell_type": "code",
      "source": [
        "query_doc_2 = [w.lower() for w in word_tokenize(\"Data encrytion is important for enterprises looking for data security and data privacy.\")]\n",
        "query_doc_bow = dictionary.doc2bow(query_doc_2)\n",
        "\n",
        "query_doc_tf_idf = tf_idf[query_doc_bow]\n",
        "sims[query_doc_tf_idf]"
      ],
      "execution_count": 23,
      "outputs": [
        {
          "output_type": "execute_result",
          "data": {
            "text/plain": [
              "array([0.        , 0.84565616, 0.        , 0.06124881, 0.        ],\n",
              "      dtype=float32)"
            ]
          },
          "metadata": {
            "tags": []
          },
          "execution_count": 23
        }
      ]
    },
    {
      "metadata": {
        "id": "9WIt4SP_Svta",
        "colab_type": "code",
        "colab": {}
      },
      "cell_type": "code",
      "source": [
        ""
      ],
      "execution_count": 0,
      "outputs": []
    }
  ]
}