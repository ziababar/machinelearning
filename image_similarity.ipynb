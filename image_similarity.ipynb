{
  "nbformat": 4,
  "nbformat_minor": 0,
  "metadata": {
    "colab": {
      "name": "image_similarity.ipynb",
      "provenance": [],
      "authorship_tag": "ABX9TyPoCU1+vHetgFqqJNBPaEJ0",
      "include_colab_link": true
    },
    "kernelspec": {
      "name": "python3",
      "display_name": "Python 3"
    }
  },
  "cells": [
    {
      "cell_type": "markdown",
      "metadata": {
        "id": "view-in-github",
        "colab_type": "text"
      },
      "source": [
        "<a href=\"https://colab.research.google.com/github/ziababar/machinelearning/blob/master/image_similarity.ipynb\" target=\"_parent\"><img src=\"https://colab.research.google.com/assets/colab-badge.svg\" alt=\"Open In Colab\"/></a>"
      ]
    },
    {
      "cell_type": "code",
      "metadata": {
        "id": "z3BcdgSjH-NX",
        "colab_type": "code",
        "colab": {}
      },
      "source": [
        ""
      ],
      "execution_count": 0,
      "outputs": []
    },
    {
      "cell_type": "markdown",
      "metadata": {
        "id": "8lV4KxaRLNg5",
        "colab_type": "text"
      },
      "source": [
        "https://pysource.com/2018/07/19/check-if-two-images-are-equal-with-opencv-and-python/\n",
        "https://pysource.com/2018/07/20/find-similarities-between-two-images-with-opencv-and-python/\n",
        "\n",
        "https://www.pyimagesearch.com/2014/09/15/python-compare-two-images/\n",
        "https://www.pyimagesearch.com/2017/06/19/image-difference-with-opencv-and-python/\n",
        "https://pypi.org/project/ImageHash/ (https://datascience.stackexchange.com/questions/28840/compare-image-similarity-in-python)\n",
        "https://rosettacode.org/wiki/Percentage_difference_between_images#Python\n"
      ]
    },
    {
      "cell_type": "markdown",
      "metadata": {
        "id": "lWDzkRZvLQg3",
        "colab_type": "text"
      },
      "source": [
        "Finding if two images are equal with Opencv, is a quite simple operation.\n",
        "\n",
        "There are 2 fundamental elements to consider:\n",
        "\n",
        "The images have both the same size and channels\n",
        "Each pixel has the same value\n",
        "We’re going first to load the images. If you want to download the images I used, you can go at the end of this article to download the entire source code with the files.\n",
        "\n",
        "First we load the original and then the duplicate."
      ]
    },
    {
      "cell_type": "markdown",
      "metadata": {
        "id": "BzFY7Hd7Lajp",
        "colab_type": "text"
      },
      "source": [
        ""
      ]
    },
    {
      "cell_type": "code",
      "metadata": {
        "id": "fpe5ojVxLcl3",
        "colab_type": "code",
        "colab": {}
      },
      "source": [
        "import cv2\n",
        "import numpy as np\n",
        "original = cv2.imread(\"imaoriginal_golden_bridge.jpg\")\n",
        "duplicate = cv2.imread(\"images/duplicate.jpg\")"
      ],
      "execution_count": 0,
      "outputs": []
    },
    {
      "cell_type": "markdown",
      "metadata": {
        "id": "h1j7laakLo_R",
        "colab_type": "text"
      },
      "source": [
        "We loaded the two images we can start making the comparison.\n",
        "First we check if they have the same size and channels. If they have the same size and channels, we continue further with the operation, if they don’t then that they’re not equal.\n",
        "\n",
        "If they have the same sizes and channels, we proceed by subtracting them. The operation cv2.subtract(image1, image2) simply subtract from each pixel of the first image, the value of the corresponding pixel in the second image.\n",
        "\n",
        "If for example the value of the pixel of the first image in the position (0, 0) is 255 and the value of the pixel in the corresponding position of the second image is also 255, it will be a simple subtraction: 255 – 255 which is equal to 0.\n",
        "\n",
        "That’s why if the images are equal, the result will be a black image (which means each pixel will have value 0).\n",
        "\n",
        "A colored image has 3 channels (blue, green and red), so the cv2.subtract() operation makes the subtraction for each single channel and we need to check if all the three channels are black.\n",
        "If they are, we can say that the images are equal."
      ]
    },
    {
      "cell_type": "markdown",
      "metadata": {
        "id": "CTY8KmhFLuUB",
        "colab_type": "text"
      },
      "source": [
        " 1) Check if 2 images are equals\n",
        "\n",
        "\n",
        "\n"
      ]
    },
    {
      "cell_type": "code",
      "metadata": {
        "id": "ePfYfqu4L8u5",
        "colab_type": "code",
        "colab": {}
      },
      "source": [
        "if original.shape == duplicate.shape:\n",
        "print(\"The images have same size and channels\")\n",
        "difference = cv2.subtract(original, duplicate)\n",
        "b, g, r = cv2.split(difference)\n",
        "if cv2.countNonZero(b) == 0 and cv2.countNonZero(g) == 0 and cv2.countNonZero(r) == 0:\n",
        "print(\"The images are completely Equal\")"
      ],
      "execution_count": 0,
      "outputs": []
    },
    {
      "cell_type": "markdown",
      "metadata": {
        "id": "B71AKxefL2Sx",
        "colab_type": "text"
      },
      "source": [
        "If we want to display the images we can use the code below:"
      ]
    },
    {
      "cell_type": "code",
      "metadata": {
        "id": "5RR1oKeaL30h",
        "colab_type": "code",
        "colab": {}
      },
      "source": [
        "cv2.imshow(\"Original\", original)\n",
        "cv2.imshow(\"Duplicate\", duplicate)\n",
        "cv2.waitKey(0)\n",
        "cv2.destroyAllWindows()"
      ],
      "execution_count": 0,
      "outputs": []
    }
  ]
}